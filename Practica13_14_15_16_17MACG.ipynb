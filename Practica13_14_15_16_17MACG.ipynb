{
  "nbformat": 4,
  "nbformat_minor": 0,
  "metadata": {
    "colab": {
      "provenance": [],
      "authorship_tag": "ABX9TyOnRUESk/aMLyEz1sOcgrK3",
      "include_colab_link": true
    },
    "kernelspec": {
      "name": "python3",
      "display_name": "Python 3"
    },
    "language_info": {
      "name": "python"
    }
  },
  "cells": [
    {
      "cell_type": "markdown",
      "metadata": {
        "id": "view-in-github",
        "colab_type": "text"
      },
      "source": [
        "<a href=\"https://colab.research.google.com/github/MisGall10/Practica13_14_15_16_17_Misael_Gallardo/blob/main/Practica13_14_15_16_17MACG.ipynb\" target=\"_parent\"><img src=\"https://colab.research.google.com/assets/colab-badge.svg\" alt=\"Open In Colab\"/></a>"
      ]
    },
    {
      "cell_type": "markdown",
      "source": [
        "# **Practica # 13-14-15-16-17. Limpieza y Transformación de datos**\n",
        "\n",
        "El objetivo de esta actividad es que los estudiantes practiquen los temas vistos de carga de datos, normalización de nombres de columnas, separación y unión de columnas, errores en los tipos de datos. Todo es en un conjunto de datos utilizando **Pandas** en **Python**.\n",
        "\n",
        "**Instrucciones:**\n",
        "\n",
        "1. Descarga el archivo CSV, miaad-nyc-r-s.csv, proporcionado en esta tarea. También lo puedes encontrar en recursos.\n",
        "2. Crea un notebook en colab y guarda el archivo csv descargado en tu drive.\n",
        "3. Agrega secciones en el colab poniendo como título el nombre de la práctica"
      ],
      "metadata": {
        "id": "vhwR93VkwsFI"
      }
    },
    {
      "cell_type": "code",
      "source": [
        "from google.colab import drive\n",
        "drive.mount('/content/drive')"
      ],
      "metadata": {
        "colab": {
          "base_uri": "https://localhost:8080/"
        },
        "id": "WQvvyqNE1ea7",
        "outputId": "733cd2a8-cb42-456e-f4cf-243e1ea91fd7"
      },
      "execution_count": 1,
      "outputs": [
        {
          "output_type": "stream",
          "name": "stdout",
          "text": [
            "Mounted at /content/drive\n"
          ]
        }
      ]
    },
    {
      "cell_type": "markdown",
      "source": [
        "---\n",
        "\n",
        "**Práctica 13: Carga de datos**\n",
        "\n",
        "Al final del archivo contiene una línea que dice \"Esta es una línea que no deberías cargar\". Esta línea es irrelevante por lo tanto al cargar el CSV a un dataframe se debería de ignorar.\n",
        "\n",
        "*   Carga el archivo a un datframe usando el codigo necesario para omitir la ultima fila.\n"
      ],
      "metadata": {
        "id": "xnEkx3Lpx-A_"
      }
    },
    {
      "cell_type": "code",
      "source": [
        "#Importamos la librería de pandas y asignamos un alias (pd)\n",
        "import pandas as pd\n",
        "\n",
        "#Leemos el archivo csv usando la funcion skipfooter para borrar la ultima\n",
        "#linea de codigo y defininedo el motor Python\n",
        "df = pd.read_csv('/content/drive/MyDrive/ClassFiles/Programacion/miaad-nyc-r-s.csv', skipfooter = 1, engine ='python')"
      ],
      "metadata": {
        "id": "OJeTdwIS1ivB"
      },
      "execution_count": 55,
      "outputs": []
    },
    {
      "cell_type": "markdown",
      "source": [
        "* Usa df.tail(3) para demostrar que no has cargado la última línea"
      ],
      "metadata": {
        "id": "1zSsgySE4AOE"
      }
    },
    {
      "cell_type": "code",
      "source": [
        "#Utilizamos la funcion para demostrar que no cargamos la ultima linea\n",
        "print(df.tail())"
      ],
      "metadata": {
        "colab": {
          "base_uri": "https://localhost:8080/"
        },
        "collapsed": true,
        "id": "zArOnFFy4HAf",
        "outputId": "353c0a9c-8d55-4a15-fea0-0cd6fb7ef2bd"
      },
      "execution_count": 56,
      "outputs": [
        {
          "output_type": "stream",
          "name": "stdout",
          "text": [
            "       Unnamed: 0  BOROUGH NEIGHBORHOOD  \\\n",
            "84543        8409        5      WOODROW   \n",
            "84544        8410        5      WOODROW   \n",
            "84545        8411        5      WOODROW   \n",
            "84546        8412        5      WOODROW   \n",
            "84547        8413        5      WOODROW   \n",
            "\n",
            "                           BUILDING CLASS CATEGORY TAX CLASS AT PRESENT  \\\n",
            "84543  02 TWO FAMILY DWELLINGS                                        1   \n",
            "84544  02 TWO FAMILY DWELLINGS                                        1   \n",
            "84545  02 TWO FAMILY DWELLINGS                                        1   \n",
            "84546  22 STORE BUILDINGS                                             4   \n",
            "84547  35 INDOOR PUBLIC AND CULTURAL FACILITIES                       4   \n",
            "\n",
            "       BLOCK  LOT EASE-MENT BUILDING CLASS AT PRESENT                ADDRESS  \\\n",
            "84543   7349   34                                  B9          37 QUAIL LANE   \n",
            "84544   7349   78                                  B9       32 PHEASANT LANE   \n",
            "84545   7351   60                                  B2       49 PITNEY AVENUE   \n",
            "84546   7100   28                                  K6  2730 ARTHUR KILL ROAD   \n",
            "84547   7105  679                                  P9      155 CLAY PIT ROAD   \n",
            "\n",
            "       ... RESIDENTIAL UNITS  COMMERCIAL UNITS  TOTAL UNITS  LAND SQUARE FEET  \\\n",
            "84543  ...                 2                 0            2              2400   \n",
            "84544  ...                 2                 0            2              2498   \n",
            "84545  ...                 2                 0            2              4000   \n",
            "84546  ...                 0                 7            7            208033   \n",
            "84547  ...                 0                 1            1             10796   \n",
            "\n",
            "       GROSS SQUARE FEET YEAR BUILT TAX CLASS AT TIME OF SALE  \\\n",
            "84543               2575       1998                         1   \n",
            "84544               2377       1998                         1   \n",
            "84545               1496       1925                         1   \n",
            "84546              64117       2001                         4   \n",
            "84547               2400       2006                         4   \n",
            "\n",
            "       BUILDING CLASS AT TIME OF SALE  SALE PRICE            SALE DATE  \n",
            "84543                              B9      450000  2016-11-28 00:00:00  \n",
            "84544                              B9      550000  2017-04-21 00:00:00  \n",
            "84545                              B2      460000  2017-07-05 00:00:00  \n",
            "84546                              K6    11693337  2016-12-21 00:00:00  \n",
            "84547                              P9       69300  2016-10-27 00:00:00  \n",
            "\n",
            "[5 rows x 22 columns]\n"
          ]
        }
      ]
    },
    {
      "cell_type": "markdown",
      "source": [
        "* Imprime la cantidad de filas y columnas del dataframe"
      ],
      "metadata": {
        "id": "16ZAMN_n4T7L"
      }
    },
    {
      "cell_type": "code",
      "source": [
        "#Guardamos en las cariables filas y columnas los valores resultantes de la tupla\n",
        "#obtenida por la funcion df.shape()\n",
        "filas , columnas = df.shape\n",
        "#Ahora imprimimos los resultados\n",
        "print(f'El numero de filas es: {filas}')\n",
        "print(f'El numero de columnas es: {columnas}')"
      ],
      "metadata": {
        "colab": {
          "base_uri": "https://localhost:8080/"
        },
        "id": "BCh4RMhF4mqp",
        "outputId": "3d29e500-17a1-45b6-d79a-d8760b8f6a9e"
      },
      "execution_count": 57,
      "outputs": [
        {
          "output_type": "stream",
          "name": "stdout",
          "text": [
            "El numero de filas es: 84548\n",
            "El numero de columnas es: 22\n"
          ]
        }
      ]
    },
    {
      "cell_type": "markdown",
      "source": [
        "---\n",
        "\n",
        "**Práctica 14: Agregar una columna**\n",
        "\n",
        "* Imprime los nombres de las columnas del archivo"
      ],
      "metadata": {
        "id": "PYbFYDPL5ebh"
      }
    },
    {
      "cell_type": "code",
      "source": [
        "#Imprimimos los nombres de las columnas del archivo\n",
        "for col in df.columns:\n",
        "    print(col)"
      ],
      "metadata": {
        "colab": {
          "base_uri": "https://localhost:8080/"
        },
        "collapsed": true,
        "id": "9XCVeoKc5y8_",
        "outputId": "344405a9-b354-4b9a-d72f-fea25867c115"
      },
      "execution_count": 58,
      "outputs": [
        {
          "output_type": "stream",
          "name": "stdout",
          "text": [
            "Unnamed: 0\n",
            "BOROUGH\n",
            "NEIGHBORHOOD\n",
            "BUILDING CLASS CATEGORY\n",
            "TAX CLASS AT PRESENT\n",
            "BLOCK\n",
            "LOT\n",
            "EASE-MENT\n",
            "BUILDING CLASS AT PRESENT\n",
            "ADDRESS\n",
            "APARTMENT NUMBER\n",
            "ZIP CODE\n",
            "RESIDENTIAL UNITS\n",
            "COMMERCIAL UNITS\n",
            "TOTAL UNITS\n",
            "LAND SQUARE FEET\n",
            "GROSS SQUARE FEET\n",
            "YEAR BUILT\n",
            "TAX CLASS AT TIME OF SALE\n",
            "BUILDING CLASS AT TIME OF SALE\n",
            "SALE PRICE\n",
            "SALE DATE\n"
          ]
        }
      ]
    },
    {
      "cell_type": "markdown",
      "source": [
        "* Asegúrate que el nombre de la primera columna debería ser INDEX MIIAD. Si esto no es así, entonces agrega dicho nombre a la columna y vuelve a imprimir los nombres para mostrar el cambio realizado."
      ],
      "metadata": {
        "id": "1a0TDbCx5s-e"
      }
    },
    {
      "cell_type": "code",
      "source": [
        "#Agregamos el nuevo nombre a la primer columnas y dejamos las demas intactas con ayuda\n",
        "#de + list(df.columns[1:])\n",
        "df.columns = ['INDEX MIIAD'] + list(df.columns[1:])\n",
        "#Imprimimos nuevamente los nombres de las columnas del archivo\n",
        "for col in df.columns:\n",
        "    print(col)"
      ],
      "metadata": {
        "colab": {
          "base_uri": "https://localhost:8080/"
        },
        "collapsed": true,
        "id": "tv6y5AuM6dVc",
        "outputId": "971b1a1c-ffba-4714-f9ce-ca8eb501a4c5"
      },
      "execution_count": 59,
      "outputs": [
        {
          "output_type": "stream",
          "name": "stdout",
          "text": [
            "INDEX MIIAD\n",
            "BOROUGH\n",
            "NEIGHBORHOOD\n",
            "BUILDING CLASS CATEGORY\n",
            "TAX CLASS AT PRESENT\n",
            "BLOCK\n",
            "LOT\n",
            "EASE-MENT\n",
            "BUILDING CLASS AT PRESENT\n",
            "ADDRESS\n",
            "APARTMENT NUMBER\n",
            "ZIP CODE\n",
            "RESIDENTIAL UNITS\n",
            "COMMERCIAL UNITS\n",
            "TOTAL UNITS\n",
            "LAND SQUARE FEET\n",
            "GROSS SQUARE FEET\n",
            "YEAR BUILT\n",
            "TAX CLASS AT TIME OF SALE\n",
            "BUILDING CLASS AT TIME OF SALE\n",
            "SALE PRICE\n",
            "SALE DATE\n"
          ]
        }
      ]
    },
    {
      "cell_type": "markdown",
      "source": [
        "---\n",
        "\n",
        "**Práctica 15: Normalización de los nombres de la colummna**\n",
        "\n",
        "* Normaliza los nombres de ls columnas, los cuales deberán estar en minúsculas. Asimismo, reemplaza los espacios con guion bajo"
      ],
      "metadata": {
        "id": "JcTALVVE8E_F"
      }
    },
    {
      "cell_type": "code",
      "source": [
        "#Convertimos los nombres de las columnas usando el formato snake_case\n",
        "#str.lower() nos ayuda a convertir todas las letras a minuscula y\n",
        "#str.replace(' ', '_') nos ayuda a cambiar los espacios por un guion bajo\n",
        "df.columns = df.columns.str.lower().str.replace(' ', '_')"
      ],
      "metadata": {
        "id": "wjgRTX_Z8TgV"
      },
      "execution_count": 60,
      "outputs": []
    },
    {
      "cell_type": "markdown",
      "source": [
        "* Imprime los nombres de las columnas para demostrar que has realizado la normalización"
      ],
      "metadata": {
        "id": "NVvPL1gx8TY-"
      }
    },
    {
      "cell_type": "code",
      "source": [
        "#Imprimimos nuevamente los nombres de las columnas del archivo\n",
        "for col in df.columns:\n",
        "    print(col)"
      ],
      "metadata": {
        "colab": {
          "base_uri": "https://localhost:8080/"
        },
        "collapsed": true,
        "id": "-4ezolvp8TRu",
        "outputId": "5dd9e63c-94ca-4c73-b210-4bc4364fb88a"
      },
      "execution_count": 61,
      "outputs": [
        {
          "output_type": "stream",
          "name": "stdout",
          "text": [
            "index_miiad\n",
            "borough\n",
            "neighborhood\n",
            "building_class_category\n",
            "tax_class_at_present\n",
            "block\n",
            "lot\n",
            "ease-ment\n",
            "building_class_at_present\n",
            "address\n",
            "apartment_number\n",
            "zip_code\n",
            "residential_units\n",
            "commercial_units\n",
            "total_units\n",
            "land_square_feet\n",
            "gross_square_feet\n",
            "year_built\n",
            "tax_class_at_time_of_sale\n",
            "building_class_at_time_of_sale\n",
            "sale_price\n",
            "sale_date\n"
          ]
        }
      ]
    },
    {
      "cell_type": "markdown",
      "source": [
        "---\n",
        "\n",
        "**Práctica 16: Errores en los Tipos de Datos**\n",
        "\n",
        "* Imprime los tipos de datos de cada columna."
      ],
      "metadata": {
        "id": "FxtcqqMm9TzC"
      }
    },
    {
      "cell_type": "code",
      "source": [
        "#Utilizamos un ciclo for para imprimir el nombre de columna y su tipo de dato correspondiente\n",
        "for col in df.columns:\n",
        "  print(f'Columna: {col}, DataType: {df[col].dtype}')"
      ],
      "metadata": {
        "colab": {
          "base_uri": "https://localhost:8080/"
        },
        "id": "6ImnBYeB9T7K",
        "outputId": "f9d934f6-1a04-47bd-efa3-020a3e9abaff"
      },
      "execution_count": 62,
      "outputs": [
        {
          "output_type": "stream",
          "name": "stdout",
          "text": [
            "Columna: index_miiad, DataType: int64\n",
            "Columna: borough, DataType: int64\n",
            "Columna: neighborhood, DataType: object\n",
            "Columna: building_class_category, DataType: object\n",
            "Columna: tax_class_at_present, DataType: object\n",
            "Columna: block, DataType: int64\n",
            "Columna: lot, DataType: int64\n",
            "Columna: ease-ment, DataType: object\n",
            "Columna: building_class_at_present, DataType: object\n",
            "Columna: address, DataType: object\n",
            "Columna: apartment_number, DataType: object\n",
            "Columna: zip_code, DataType: int64\n",
            "Columna: residential_units, DataType: int64\n",
            "Columna: commercial_units, DataType: int64\n",
            "Columna: total_units, DataType: int64\n",
            "Columna: land_square_feet, DataType: object\n",
            "Columna: gross_square_feet, DataType: object\n",
            "Columna: year_built, DataType: int64\n",
            "Columna: tax_class_at_time_of_sale, DataType: int64\n",
            "Columna: building_class_at_time_of_sale, DataType: object\n",
            "Columna: sale_price, DataType: object\n",
            "Columna: sale_date, DataType: object\n"
          ]
        }
      ]
    },
    {
      "cell_type": "markdown",
      "source": [
        "* Asegúrate que las columnas de SALE PRICE(sale_price), LAND SQUARE FEET (land_square_feet), GROSS SQUARE FEET (gross_square_feet) sean de tipo flotante. Escribe qué tipo de dato tienen asignado. Si no son correctos, realiza el cambio."
      ],
      "metadata": {
        "id": "HKtcQwce9TYr"
      }
    },
    {
      "cell_type": "code",
      "source": [
        "#Imprimimos las columnas que nos interesan e imprimimos el tipo de dato que son\n",
        "print('Columnas y tipo de dato antes del cambio: ')\n",
        "for col in df.columns:\n",
        "  if col in ['sale_price','land_square_feet','gross_square_feet']:\n",
        "    print(f'Columna: {col}, DataType: {df[col].dtype}')\n",
        "#Acutalizamos el tipo de dato en las columnas a tipo flotante\n",
        "df['sale_price'] = pd.to_numeric(df['sale_price'], errors = 'coerce')\n",
        "df['land_square_feet'] = pd.to_numeric(df['sale_price'], errors = 'coerce')\n",
        "df['gross_square_feet'] = pd.to_numeric(df['sale_price'], errors = 'coerce')"
      ],
      "metadata": {
        "colab": {
          "base_uri": "https://localhost:8080/"
        },
        "id": "3pWOJn9a9Tqf",
        "outputId": "550b9142-7f1a-4f10-b0e9-f125167fc10d"
      },
      "execution_count": 63,
      "outputs": [
        {
          "output_type": "stream",
          "name": "stdout",
          "text": [
            "Columnas y tipo de dato antes del cambio: \n",
            "Columna: land_square_feet, DataType: object\n",
            "Columna: gross_square_feet, DataType: object\n",
            "Columna: sale_price, DataType: object\n"
          ]
        }
      ]
    },
    {
      "cell_type": "markdown",
      "source": [
        "* Imprime de nuevo los tipos de datos para demostrar que has arreglado el problema"
      ],
      "metadata": {
        "id": "502VJFWg9dp2"
      }
    },
    {
      "cell_type": "code",
      "source": [
        "#Imprimimos las columnas para demostrar que arreglamos el problema\n",
        "print('Columnas y tipo de dato despues del cambio: ')\n",
        "for col in df.columns:\n",
        "  if col in ['sale_price','land_square_feet','gross_square_feet']:\n",
        "    print(f'Columna: {col}, DataType: {df[col].dtype}')"
      ],
      "metadata": {
        "colab": {
          "base_uri": "https://localhost:8080/"
        },
        "id": "074QH_HY9eBi",
        "outputId": "ca5cd739-6edb-4de2-e83a-c3ce66ff3e25"
      },
      "execution_count": 64,
      "outputs": [
        {
          "output_type": "stream",
          "name": "stdout",
          "text": [
            "Columnas y tipo de dato despues del cambio: \n",
            "Columna: land_square_feet, DataType: float64\n",
            "Columna: gross_square_feet, DataType: float64\n",
            "Columna: sale_price, DataType: float64\n"
          ]
        }
      ]
    },
    {
      "cell_type": "markdown",
      "source": [
        "---\n",
        "\n",
        "**Práctica 17: Genera el diccionario de datos del data frame preprocesado. Imprime el contenido de dicho diccionario"
      ],
      "metadata": {
        "id": "GcJOSxf-9s62"
      }
    },
    {
      "cell_type": "code",
      "source": [
        "#Iniciamos la variable diccionario donde guardaremos en la primer columna el nombre\n",
        "#de las columnas, y en tipo de datos guardaremos el tipo de dato en texto\n",
        "#para cada columna\n",
        "diccionario_datos = pd.DataFrame({\"Nombre de columna\": df.columns,\"Tipo de dato\": [str(df[col].dtype) for col in df.columns]})\n",
        "#Impriminmos el diccionario\n",
        "print(diccionario_datos)"
      ],
      "metadata": {
        "colab": {
          "base_uri": "https://localhost:8080/"
        },
        "id": "DlA1QAWJ9tUc",
        "outputId": "2ec937e6-0d00-4834-bcb8-50e639fde758"
      },
      "execution_count": 65,
      "outputs": [
        {
          "output_type": "stream",
          "name": "stdout",
          "text": [
            "                 Nombre de columna Tipo de dato\n",
            "0                      index_miiad        int64\n",
            "1                          borough        int64\n",
            "2                     neighborhood       object\n",
            "3          building_class_category       object\n",
            "4             tax_class_at_present       object\n",
            "5                            block        int64\n",
            "6                              lot        int64\n",
            "7                        ease-ment       object\n",
            "8        building_class_at_present       object\n",
            "9                          address       object\n",
            "10                apartment_number       object\n",
            "11                        zip_code        int64\n",
            "12               residential_units        int64\n",
            "13                commercial_units        int64\n",
            "14                     total_units        int64\n",
            "15                land_square_feet      float64\n",
            "16               gross_square_feet      float64\n",
            "17                      year_built        int64\n",
            "18       tax_class_at_time_of_sale        int64\n",
            "19  building_class_at_time_of_sale       object\n",
            "20                      sale_price      float64\n",
            "21                       sale_date       object\n"
          ]
        }
      ]
    }
  ]
}